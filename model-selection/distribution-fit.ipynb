{
 "cells": [
  {
   "cell_type": "markdown",
   "id": "7f42a697-bf44-4bec-b480-75ea7388ef45",
   "metadata": {},
   "source": [
    "# Fit distribution parameters of various distributions from samples"
   ]
  },
  {
   "cell_type": "code",
   "execution_count": null,
   "id": "7f227789-39d5-4dec-9030-418fb52d0034",
   "metadata": {},
   "outputs": [],
   "source": [
    "%load_ext autoreload\n",
    "%autoreload 2\n",
    "%matplotlib ipympl\n",
    "from scipy.stats import norm, gamma, sampling\n",
    "import matplotlib.pyplot as plt\n",
    "import numpy as np"
   ]
  },
  {
   "cell_type": "markdown",
   "id": "446e1ab5-f6ec-4fd7-b460-4fea338a5108",
   "metadata": {},
   "source": [
    "# Normal distribution"
   ]
  },
  {
   "cell_type": "code",
   "execution_count": null,
   "id": "aaf8e9ab-f56a-47f1-883b-431868b34ca7",
   "metadata": {},
   "outputs": [],
   "source": [
    "class StandardNormal:\n",
    "    def pdf(self, x):\n",
    "        return norm.pdf(x)\n",
    "    def cdf(self, x):\n",
    "        return norm.cdf(x)"
   ]
  },
  {
   "cell_type": "markdown",
   "id": "4f899625-608f-419d-84cb-07fb298446a7",
   "metadata": {},
   "source": [
    "## Generate sample"
   ]
  },
  {
   "cell_type": "code",
   "execution_count": null,
   "id": "22389272-cd1f-4647-87a8-30dbe06bf1ed",
   "metadata": {},
   "outputs": [],
   "source": [
    "rng = sampling.NumericalInverseHermite(StandardNormal(), random_state=42)\n",
    "# Random variate sample\n",
    "rvs = rng.rvs(10000)"
   ]
  },
  {
   "cell_type": "code",
   "execution_count": null,
   "id": "1bb2690a-2793-4b4e-bea7-1e52905c8365",
   "metadata": {},
   "outputs": [],
   "source": [
    "fig, ax = plt.subplots()\n",
    "\n",
    "ax.hist(rvs, bins=50, linewidth=0.5, edgecolor=\"white\")\n",
    "\n",
    "plt.show()"
   ]
  },
  {
   "cell_type": "markdown",
   "id": "4c0bd451-da25-49b6-9685-c91b1a34d8b8",
   "metadata": {},
   "source": [
    "## Fit standard normal distribution parameters on sample data"
   ]
  },
  {
   "cell_type": "code",
   "execution_count": null,
   "id": "a1f25afe-439e-41da-861f-d5c77ad37e99",
   "metadata": {},
   "outputs": [],
   "source": [
    "param_fit={}\n",
    "param_fit[\"loc\"], param_fit[\"scale\"] = norm.fit(rvs)\n",
    "print(\"param_fit:\", param_fit)\n",
    "# Fit by default with MLE\n",
    "dist_fit = norm(**param_fit)"
   ]
  },
  {
   "cell_type": "code",
   "execution_count": null,
   "id": "57d161be-78e7-4bd4-97b5-a3f74a7739b7",
   "metadata": {},
   "outputs": [],
   "source": [
    "fig, ax = plt.subplots()\n",
    "x = np.linspace(dist_fit.ppf(0.001), dist_fit.ppf(0.999), 100)\n",
    "ax.hist(rvs, bins=50, linewidth=0.5, edgecolor=\"white\", density=True)\n",
    "ax.plot(x, dist_fit.pdf(x))\n",
    "plt.show()"
   ]
  },
  {
   "cell_type": "markdown",
   "id": "5d1e0ae6-4963-4d31-8719-e2e7730727d7",
   "metadata": {},
   "source": [
    "# Gamma distribution"
   ]
  },
  {
   "cell_type": "code",
   "execution_count": null,
   "id": "9a601820-10cd-401e-9f5e-f03387b5a957",
   "metadata": {},
   "outputs": [],
   "source": [
    "class Gamma:\n",
    "    def __init__(self, a, b):\n",
    "        \"\"\"\n",
    "        a: alpha > 0\n",
    "        b: beta > 0\n",
    "        \"\"\"\n",
    "        assert a > 0\n",
    "        assert b > 0\n",
    "        self._a = a\n",
    "        self._scale = 1 / b\n",
    "    \n",
    "    def pdf(self, x):\n",
    "        return gamma.pdf(x, a=self._a, scale=self._scale)\n",
    "    def cdf(self, x):\n",
    "        return gamma.cdf(x, a=self._a, scale=self._scale)"
   ]
  },
  {
   "cell_type": "markdown",
   "id": "45ca996c-ea6e-4cd0-8483-058d7e7c8293",
   "metadata": {},
   "source": [
    "## Generate sample\n",
    "**Parameters**: $\\alpha=7.5, \\beta=1.0$"
   ]
  },
  {
   "cell_type": "code",
   "execution_count": null,
   "id": "b3b989b2-5999-4dfc-a60c-7790b451e974",
   "metadata": {},
   "outputs": [],
   "source": [
    "rng = sampling.NumericalInverseHermite(Gamma(7.5, 1.0), random_state=42)\n",
    "# Random variate sample\n",
    "rvs = rng.rvs(10000)"
   ]
  },
  {
   "cell_type": "markdown",
   "id": "8836b7ee-f59d-4c6b-b72c-439c5b0e3eb7",
   "metadata": {},
   "source": [
    "## Fit Gamma distribution parameters on sample data"
   ]
  },
  {
   "cell_type": "code",
   "execution_count": null,
   "id": "7821084e-65c9-4871-a816-896f47202878",
   "metadata": {},
   "outputs": [],
   "source": [
    "param_fit={}\n",
    "param_fit[\"a\"], param_fit[\"loc\"], param_fit[\"scale\"] = gamma.fit(rvs)\n",
    "print(\"param_fit:\", param_fit)\n",
    "# Fit by default with MLE\n",
    "dist_fit = gamma(**param_fit)"
   ]
  },
  {
   "cell_type": "code",
   "execution_count": null,
   "id": "394d0e8d-8542-4516-a260-321c9dda4b53",
   "metadata": {},
   "outputs": [],
   "source": [
    "fig, ax = plt.subplots()\n",
    "x = np.linspace(dist_fit.ppf(0.001), dist_fit.ppf(0.999), 100)\n",
    "ax.hist(rvs, bins=50, linewidth=0.5, edgecolor=\"white\", density=True)\n",
    "ax.plot(x, dist_fit.pdf(x))\n",
    "plt.show()"
   ]
  },
  {
   "cell_type": "code",
   "execution_count": null,
   "id": "b644e81a-e732-494f-9fd8-46081663b6b2",
   "metadata": {},
   "outputs": [],
   "source": []
  }
 ],
 "metadata": {
  "kernelspec": {
   "display_name": "Python 3 (ipykernel)",
   "language": "python",
   "name": "python3"
  },
  "language_info": {
   "codemirror_mode": {
    "name": "ipython",
    "version": 3
   },
   "file_extension": ".py",
   "mimetype": "text/x-python",
   "name": "python",
   "nbconvert_exporter": "python",
   "pygments_lexer": "ipython3",
   "version": "3.10.8"
  }
 },
 "nbformat": 4,
 "nbformat_minor": 5
}
