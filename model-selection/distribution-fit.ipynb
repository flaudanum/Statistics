{
 "cells": [
  {
   "cell_type": "markdown",
   "id": "7f42a697-bf44-4bec-b480-75ea7388ef45",
   "metadata": {},
   "source": [
    "# Fit distribution parameters of various distributions from samples"
   ]
  },
  {
   "cell_type": "code",
   "execution_count": null,
   "id": "7f227789-39d5-4dec-9030-418fb52d0034",
   "metadata": {},
   "outputs": [],
   "source": [
    "%load_ext autoreload\n",
    "%autoreload 2\n",
    "%matplotlib ipympl\n",
    "from scipy.stats import norm, sampling\n",
    "import matplotlib.pyplot as plt\n",
    "import numpy as np"
   ]
  },
  {
   "cell_type": "code",
   "execution_count": null,
   "id": "aaf8e9ab-f56a-47f1-883b-431868b34ca7",
   "metadata": {},
   "outputs": [],
   "source": [
    "class StandardNormal:\n",
    "    def pdf(self, x):\n",
    "        return norm.pdf(x)\n",
    "    def cdf(self, x):\n",
    "        return norm.cdf(x)"
   ]
  },
  {
   "cell_type": "code",
   "execution_count": null,
   "id": "22389272-cd1f-4647-87a8-30dbe06bf1ed",
   "metadata": {},
   "outputs": [],
   "source": [
    "rng = sampling.NumericalInverseHermite(StandardNormal(), random_state=42)\n",
    "# Random variate sample\n",
    "rvs = rng.rvs(10000)"
   ]
  },
  {
   "cell_type": "code",
   "execution_count": null,
   "id": "1bb2690a-2793-4b4e-bea7-1e52905c8365",
   "metadata": {},
   "outputs": [],
   "source": [
    "fig, ax = plt.subplots()\n",
    "\n",
    "ax.hist(rvs, bins=50, linewidth=0.5, edgecolor=\"white\")\n",
    "\n",
    "plt.show()"
   ]
  },
  {
   "cell_type": "code",
   "execution_count": null,
   "id": "a1f25afe-439e-41da-861f-d5c77ad37e99",
   "metadata": {},
   "outputs": [],
   "source": [
    "param_fit={}\n",
    "param_fit[\"loc\"], param_fit[\"scale\"] = norm.fit(rvs)\n",
    "# Fit by default with MLE\n",
    "dist_fit = norm(**param_fit)"
   ]
  },
  {
   "cell_type": "code",
   "execution_count": null,
   "id": "57d161be-78e7-4bd4-97b5-a3f74a7739b7",
   "metadata": {},
   "outputs": [],
   "source": [
    "fig, ax = plt.subplots()\n",
    "x = np.linspace(dist_fit.ppf(0.001), dist_fit.ppf(0.999), 100)\n",
    "ax.hist(rvs, bins=50, linewidth=0.5, edgecolor=\"white\", density=True)\n",
    "ax.plot(x, dist_fit.pdf(x))\n",
    "plt.show()"
   ]
  },
  {
   "cell_type": "code",
   "execution_count": null,
   "id": "a74976d4-6b19-4295-8943-e00b9b19760a",
   "metadata": {},
   "outputs": [],
   "source": []
  }
 ],
 "metadata": {
  "kernelspec": {
   "display_name": "Python 3 (ipykernel)",
   "language": "python",
   "name": "python3"
  },
  "language_info": {
   "codemirror_mode": {
    "name": "ipython",
    "version": 3
   },
   "file_extension": ".py",
   "mimetype": "text/x-python",
   "name": "python",
   "nbconvert_exporter": "python",
   "pygments_lexer": "ipython3",
   "version": "3.10.8"
  }
 },
 "nbformat": 4,
 "nbformat_minor": 5
}
