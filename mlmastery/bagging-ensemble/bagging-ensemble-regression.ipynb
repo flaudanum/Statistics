{
 "cells": [
  {
   "cell_type": "markdown",
   "id": "cb23b424-bb74-46b1-bbc7-d71b697d8061",
   "metadata": {},
   "source": [
    "# How to Develop a Bagging Ensemble with Python - Regression\n",
    "From tutorial [https://machinelearningmastery.com/bagging-ensemble-with-python/](https://machinelearningmastery.com/bagging-ensemble-with-python/)"
   ]
  },
  {
   "cell_type": "code",
   "execution_count": 1,
   "id": "b0c30a28-abbe-4cd2-94ee-80ef2e335e3d",
   "metadata": {},
   "outputs": [],
   "source": [
    "from numpy import mean\n",
    "from numpy import std\n",
    "from sklearn.datasets import make_regression\n",
    "from sklearn.model_selection import cross_val_score\n",
    "from sklearn.model_selection import RepeatedKFold\n",
    "from sklearn.ensemble import BaggingRegressor"
   ]
  },
  {
   "cell_type": "code",
   "execution_count": 2,
   "id": "d8a06f85-67c1-425c-a883-7b364d7007d4",
   "metadata": {},
   "outputs": [
    {
     "name": "stdout",
     "output_type": "stream",
     "text": [
      "(1000, 20) (1000,)\n"
     ]
    }
   ],
   "source": [
    "# test regression dataset\n",
    "# define dataset\n",
    "X, y = make_regression(n_samples=1000, n_features=20, n_informative=15, noise=0.1, random_state=5)\n",
    "# summarize the dataset\n",
    "print(X.shape, y.shape)"
   ]
  },
  {
   "cell_type": "code",
   "execution_count": 3,
   "id": "59948101-299d-40da-b92a-f3bdc6bef02e",
   "metadata": {},
   "outputs": [
    {
     "name": "stdout",
     "output_type": "stream",
     "text": [
      "n_scores = [ -95.26860272 -105.73061965  -99.43469431  -92.65835195 -107.81420523\n",
      "  -92.69533486 -108.64489937  -92.54646147  -87.23512249  -96.72766983\n",
      "  -97.59759914 -108.24784424 -105.30361754  -98.07867146 -104.32038186\n",
      "  -90.48063162 -106.55101335  -85.90541749 -100.89496472 -120.80697168\n",
      " -121.75750513  -87.13788899  -95.37023965  -90.29845404 -118.50156918\n",
      "  -91.5165493   -93.29002257  -93.80570493  -83.85828565 -102.93888972]\n",
      "len(n_scores) = 30\n",
      "MAE: -99.181 (9.864)\n"
     ]
    }
   ],
   "source": [
    "# define the model\n",
    "model = BaggingRegressor()\n",
    "# evaluate the model\n",
    "cv = RepeatedKFold(n_splits=10, n_repeats=3, random_state=1)\n",
    "n_scores = cross_val_score(model, X, y, scoring='neg_mean_absolute_error', cv=cv, n_jobs=-1, error_score='raise')\n",
    "print(f\"n_scores = {n_scores}\")\n",
    "print(f\"len(n_scores) = {len(n_scores)}\")\n",
    "# report performance\n",
    "print('MAE: %.3f (%.3f)' % (mean(n_scores), std(n_scores)))"
   ]
  },
  {
   "cell_type": "code",
   "execution_count": 4,
   "id": "9694a5a0-350d-4d0e-872b-f551c01a573a",
   "metadata": {},
   "outputs": [
    {
     "name": "stdout",
     "output_type": "stream",
     "text": [
      "Prediction: -103\n"
     ]
    }
   ],
   "source": [
    "# fit the model on the whole dataset\n",
    "model.fit(X, y)\n",
    "# make a single prediction\n",
    "row = [[0.88950817,-0.93540416,0.08392824,0.26438806,-0.52828711,-1.21102238,-0.4499934,1.47392391,-0.19737726,-0.22252503,0.02307668,0.26953276,0.03572757,-0.51606983,-0.39937452,1.8121736,-0.00775917,-0.02514283,-0.76089365,1.58692212]]\n",
    "yhat = model.predict(row)\n",
    "print('Prediction: %d' % yhat[0])"
   ]
  },
  {
   "cell_type": "code",
   "execution_count": null,
   "id": "63dcd329-ba4d-45f4-84fd-a3e7deb3ec53",
   "metadata": {},
   "outputs": [],
   "source": []
  }
 ],
 "metadata": {
  "kernelspec": {
   "display_name": "Python 3 (ipykernel)",
   "language": "python",
   "name": "python3"
  },
  "language_info": {
   "codemirror_mode": {
    "name": "ipython",
    "version": 3
   },
   "file_extension": ".py",
   "mimetype": "text/x-python",
   "name": "python",
   "nbconvert_exporter": "python",
   "pygments_lexer": "ipython3",
   "version": "3.10.8"
  }
 },
 "nbformat": 4,
 "nbformat_minor": 5
}
