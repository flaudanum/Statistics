{
 "cells": [
  {
   "cell_type": "markdown",
   "id": "c44be1e8-ef78-4a2a-af83-f27cbb6c95a4",
   "metadata": {},
   "source": [
    "# How to Develop a Bagging Ensemble with Python - Classification\n",
    "From tutorial [https://machinelearningmastery.com/bagging-ensemble-with-python/](https://machinelearningmastery.com/bagging-ensemble-with-python/)"
   ]
  },
  {
   "cell_type": "code",
   "execution_count": 1,
   "id": "3d1dc50a-4342-419e-be20-efbbf9abe9de",
   "metadata": {},
   "outputs": [],
   "source": [
    "from numpy import mean\n",
    "from numpy import std\n",
    "from sklearn.datasets import make_classification\n",
    "from sklearn.model_selection import cross_val_score\n",
    "from sklearn.model_selection import RepeatedStratifiedKFold\n",
    "from sklearn.ensemble import BaggingClassifier"
   ]
  },
  {
   "cell_type": "markdown",
   "id": "512f00f5-9280-4fe0-b4d8-ed27dfad1992",
   "metadata": {},
   "source": [
    "## Test classification dataset"
   ]
  },
  {
   "cell_type": "code",
   "execution_count": 2,
   "id": "a9005580-a5fe-4339-83fe-39e7c29105e9",
   "metadata": {},
   "outputs": [
    {
     "name": "stdout",
     "output_type": "stream",
     "text": [
      "(1000, 20) (1000,)\n"
     ]
    }
   ],
   "source": [
    "# define dataset, n_classes=2 (default)\n",
    "X, y = make_classification(n_samples=1000, n_features=20, n_informative=15, n_redundant=5, random_state=5)\n",
    "# summarize the dataset\n",
    "print(X.shape, y.shape)"
   ]
  },
  {
   "cell_type": "markdown",
   "id": "f6e463e4-8410-43da-a15f-2d144bab9685",
   "metadata": {},
   "source": [
    "## Evaluate bagging algorithm for classification\n",
    "[Documentation about class `BaggingClassifier`](https://scikit-learn.org/stable/modules/generated/sklearn.ensemble.BaggingClassifier.html)"
   ]
  },
  {
   "cell_type": "code",
   "execution_count": 3,
   "id": "8d3ec511-f4e2-4387-a7be-64e437631d17",
   "metadata": {},
   "outputs": [
    {
     "name": "stdout",
     "output_type": "stream",
     "text": [
      "n_scores = [0.89 0.89 0.8  0.83 0.88 0.88 0.92 0.86 0.91 0.86 0.9  0.82 0.79 0.8\n",
      " 0.84 0.88 0.89 0.89 0.92 0.87 0.9  0.88 0.79 0.88 0.84 0.82 0.87 0.9\n",
      " 0.83 0.84]\n",
      "n_scores.length = 30\n",
      "Accuracy: 0.862 (0.038)\n"
     ]
    }
   ],
   "source": [
    "# define the model\n",
    "model = BaggingClassifier()\n",
    "# evaluate the model\n",
    "cv = RepeatedStratifiedKFold(n_splits=10, n_repeats=3, random_state=1)\n",
    "n_scores = cross_val_score(model, X, y, scoring='accuracy', cv=cv, n_jobs=-1, error_score='raise')\n",
    "print(\"n_scores =\", n_scores)\n",
    "print(\"n_scores.length =\", len(n_scores))\n",
    "# report performance\n",
    "print('Accuracy: %.3f (%.3f)' % (mean(n_scores), std(n_scores)))"
   ]
  },
  {
   "cell_type": "markdown",
   "id": "57c68eb9-9010-4068-a021-5daa4038343a",
   "metadata": {},
   "source": [
    "## Make predictions using bagging for classification"
   ]
  },
  {
   "cell_type": "code",
   "execution_count": 4,
   "id": "b06cf013-0ef1-4337-b929-65aa2bed12bf",
   "metadata": {},
   "outputs": [
    {
     "name": "stdout",
     "output_type": "stream",
     "text": [
      "Predicted Class: 1\n"
     ]
    }
   ],
   "source": [
    "# fit the model on the whole dataset\n",
    "model.fit(X, y)\n",
    "# make a single prediction\n",
    "row = [[-4.7705504,-1.88685058,-0.96057964,2.53850317,-6.5843005,3.45711663,-7.46225013,2.01338213,-0.45086384,-1.89314931,-2.90675203,-0.21214568,-0.9623956,3.93862591,0.06276375,0.33964269,4.0835676,1.31423977,-2.17983117,3.1047287]]\n",
    "yhat = model.predict(row)\n",
    "print('Predicted Class: %d' % yhat[0])"
   ]
  },
  {
   "cell_type": "code",
   "execution_count": null,
   "id": "c1de49cf-10b1-4bba-b1fc-80e81de8344c",
   "metadata": {},
   "outputs": [],
   "source": []
  }
 ],
 "metadata": {
  "kernelspec": {
   "display_name": "Python 3 (ipykernel)",
   "language": "python",
   "name": "python3"
  },
  "language_info": {
   "codemirror_mode": {
    "name": "ipython",
    "version": 3
   },
   "file_extension": ".py",
   "mimetype": "text/x-python",
   "name": "python",
   "nbconvert_exporter": "python",
   "pygments_lexer": "ipython3",
   "version": "3.10.8"
  }
 },
 "nbformat": 4,
 "nbformat_minor": 5
}
